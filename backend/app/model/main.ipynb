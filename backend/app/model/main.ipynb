{
 "cells": [
  {
   "cell_type": "markdown",
   "id": "7c186539-5a58-441c-b078-ab21c00686ae",
   "metadata": {
    "jp-MarkdownHeadingCollapsed": true,
    "tags": []
   },
   "source": [
    "# Installs"
   ]
  },
  {
   "cell_type": "code",
   "execution_count": 3,
   "id": "b5f56a04-e0ba-4e43-a3f9-1fba170af5ed",
   "metadata": {},
   "outputs": [
    {
     "name": "stdout",
     "output_type": "stream",
     "text": [
      "Requirement already satisfied: lightning in ./.conda/envs/default/lib/python3.9/site-packages (2.0.0)\n",
      "Requirement already satisfied: requests<4.0 in ./.conda/envs/default/lib/python3.9/site-packages (from lightning) (2.28.2)\n",
      "Requirement already satisfied: PyYAML<8.0 in ./.conda/envs/default/lib/python3.9/site-packages (from lightning) (5.4.1)\n",
      "Requirement already satisfied: beautifulsoup4<6.0,>=4.8.0 in ./.conda/envs/default/lib/python3.9/site-packages (from lightning) (4.11.1)\n",
      "Requirement already satisfied: uvicorn<2.0 in ./.conda/envs/default/lib/python3.9/site-packages (from lightning) (0.21.1)\n",
      "Requirement already satisfied: torchmetrics<2.0,>=0.7.0 in ./.conda/envs/default/lib/python3.9/site-packages (from lightning) (0.11.4)\n",
      "Requirement already satisfied: fsspec<2024.0,>=2022.5.0 in ./.conda/envs/default/lib/python3.9/site-packages (from lightning) (2023.3.0)\n",
      "Requirement already satisfied: numpy<3.0,>=1.17.2 in ./.conda/envs/default/lib/python3.9/site-packages (from lightning) (1.23.5)\n",
      "Requirement already satisfied: Jinja2<5.0 in ./.conda/envs/default/lib/python3.9/site-packages (from lightning) (3.1.2)\n",
      "Requirement already satisfied: websocket-client<3.0 in ./.conda/envs/default/lib/python3.9/site-packages (from lightning) (1.4.2)\n",
      "Requirement already satisfied: psutil<7.0 in ./.conda/envs/default/lib/python3.9/site-packages (from lightning) (5.9.4)\n",
      "Requirement already satisfied: arrow<3.0,>=1.2.0 in ./.conda/envs/default/lib/python3.9/site-packages (from lightning) (1.2.3)\n",
      "Requirement already satisfied: starlette<2.0 in ./.conda/envs/default/lib/python3.9/site-packages (from lightning) (0.22.0)\n",
      "Requirement already satisfied: tqdm<6.0,>=4.57.0 in ./.conda/envs/default/lib/python3.9/site-packages (from lightning) (4.65.0)\n",
      "Requirement already satisfied: croniter<1.4.0,>=1.3.0 in ./.conda/envs/default/lib/python3.9/site-packages (from lightning) (1.3.8)\n",
      "Requirement already satisfied: traitlets<7.0,>=5.3.0 in ./.conda/envs/default/lib/python3.9/site-packages (from lightning) (5.5.0)\n",
      "Requirement already satisfied: inquirer<5.0,>=2.10.0 in ./.conda/envs/default/lib/python3.9/site-packages (from lightning) (3.1.3)\n",
      "Requirement already satisfied: rich<15.0,>=12.3.0 in ./.conda/envs/default/lib/python3.9/site-packages (from lightning) (13.3.3)\n",
      "Requirement already satisfied: click<10.0 in ./.conda/envs/default/lib/python3.9/site-packages (from lightning) (8.1.3)\n",
      "Requirement already satisfied: packaging<25.0,>=17.1 in ./.conda/envs/default/lib/python3.9/site-packages (from lightning) (21.3)\n",
      "Requirement already satisfied: websockets<12.0 in ./.conda/envs/default/lib/python3.9/site-packages (from lightning) (10.4)\n",
      "Requirement already satisfied: urllib3<3.0 in ./.conda/envs/default/lib/python3.9/site-packages (from lightning) (1.26.14)\n",
      "Requirement already satisfied: deepdiff<8.0,>=5.7.0 in ./.conda/envs/default/lib/python3.9/site-packages (from lightning) (6.3.0)\n",
      "Requirement already satisfied: dateutils<2.0 in ./.conda/envs/default/lib/python3.9/site-packages (from lightning) (0.6.12)\n",
      "Requirement already satisfied: lightning-utilities<2.0,>=0.7.0 in ./.conda/envs/default/lib/python3.9/site-packages (from lightning) (0.8.0)\n",
      "Requirement already satisfied: starsessions<2.0,>=1.2.1 in ./.conda/envs/default/lib/python3.9/site-packages (from lightning) (1.3.0)\n",
      "Requirement already satisfied: fastapi<0.89.0 in ./.conda/envs/default/lib/python3.9/site-packages (from lightning) (0.88.0)\n",
      "Requirement already satisfied: lightning-cloud>=0.5.31 in ./.conda/envs/default/lib/python3.9/site-packages (from lightning) (0.5.32)\n",
      "Requirement already satisfied: pydantic<3.0 in ./.conda/envs/default/lib/python3.9/site-packages (from lightning) (1.10.7)\n",
      "Requirement already satisfied: torch<4.0,>=1.11.0 in ./.conda/envs/default/lib/python3.9/site-packages (from lightning) (2.0.0)\n",
      "Requirement already satisfied: typing-extensions<6.0,>=4.0.0 in ./.conda/envs/default/lib/python3.9/site-packages (from lightning) (4.4.0)\n",
      "Requirement already satisfied: pytorch-lightning in ./.conda/envs/default/lib/python3.9/site-packages (from lightning) (2.0.0)\n",
      "Requirement already satisfied: python-dateutil>=2.7.0 in ./.conda/envs/default/lib/python3.9/site-packages (from arrow<3.0,>=1.2.0->lightning) (2.8.2)\n",
      "Requirement already satisfied: soupsieve>1.2 in ./.conda/envs/default/lib/python3.9/site-packages (from beautifulsoup4<6.0,>=4.8.0->lightning) (2.3.2.post1)\n",
      "Requirement already satisfied: pytz in ./.conda/envs/default/lib/python3.9/site-packages (from dateutils<2.0->lightning) (2023.3)\n",
      "Requirement already satisfied: ordered-set<4.2.0,>=4.0.2 in ./.conda/envs/default/lib/python3.9/site-packages (from deepdiff<8.0,>=5.7.0->lightning) (4.1.0)\n",
      "Requirement already satisfied: anyio<5,>=3.4.0 in ./.conda/envs/default/lib/python3.9/site-packages (from starlette<2.0->lightning) (3.6.2)\n",
      "Requirement already satisfied: idna>=2.8 in ./.conda/envs/default/lib/python3.9/site-packages (from anyio<5,>=3.4.0->starlette<2.0->lightning) (3.4)\n",
      "Requirement already satisfied: sniffio>=1.1 in ./.conda/envs/default/lib/python3.9/site-packages (from anyio<5,>=3.4.0->starlette<2.0->lightning) (1.3.0)\n",
      "Requirement already satisfied: aiohttp!=4.0.0a0,!=4.0.0a1 in ./.conda/envs/default/lib/python3.9/site-packages (from fsspec<2024.0,>=2022.5.0->lightning) (3.8.4)\n",
      "Requirement already satisfied: yarl<2.0,>=1.0 in ./.conda/envs/default/lib/python3.9/site-packages (from aiohttp!=4.0.0a0,!=4.0.0a1->fsspec<2024.0,>=2022.5.0->lightning) (1.8.2)\n",
      "Requirement already satisfied: frozenlist>=1.1.1 in ./.conda/envs/default/lib/python3.9/site-packages (from aiohttp!=4.0.0a0,!=4.0.0a1->fsspec<2024.0,>=2022.5.0->lightning) (1.3.3)\n",
      "Requirement already satisfied: charset-normalizer<4.0,>=2.0 in ./.conda/envs/default/lib/python3.9/site-packages (from aiohttp!=4.0.0a0,!=4.0.0a1->fsspec<2024.0,>=2022.5.0->lightning) (3.1.0)\n",
      "Requirement already satisfied: multidict<7.0,>=4.5 in ./.conda/envs/default/lib/python3.9/site-packages (from aiohttp!=4.0.0a0,!=4.0.0a1->fsspec<2024.0,>=2022.5.0->lightning) (6.0.4)\n",
      "Requirement already satisfied: aiosignal>=1.1.2 in ./.conda/envs/default/lib/python3.9/site-packages (from aiohttp!=4.0.0a0,!=4.0.0a1->fsspec<2024.0,>=2022.5.0->lightning) (1.3.1)\n",
      "Requirement already satisfied: async-timeout<5.0,>=4.0.0a3 in ./.conda/envs/default/lib/python3.9/site-packages (from aiohttp!=4.0.0a0,!=4.0.0a1->fsspec<2024.0,>=2022.5.0->lightning) (4.0.2)\n",
      "Requirement already satisfied: attrs>=17.3.0 in ./.conda/envs/default/lib/python3.9/site-packages (from aiohttp!=4.0.0a0,!=4.0.0a1->fsspec<2024.0,>=2022.5.0->lightning) (22.1.0)\n",
      "Requirement already satisfied: readchar>=3.0.6 in ./.conda/envs/default/lib/python3.9/site-packages (from inquirer<5.0,>=2.10.0->lightning) (4.0.5)\n",
      "Requirement already satisfied: blessed>=1.19.0 in ./.conda/envs/default/lib/python3.9/site-packages (from inquirer<5.0,>=2.10.0->lightning) (1.20.0)\n",
      "Requirement already satisfied: python-editor>=1.0.4 in ./.conda/envs/default/lib/python3.9/site-packages (from inquirer<5.0,>=2.10.0->lightning) (1.0.4)\n",
      "Requirement already satisfied: wcwidth>=0.1.4 in ./.conda/envs/default/lib/python3.9/site-packages (from blessed>=1.19.0->inquirer<5.0,>=2.10.0->lightning) (0.2.5)\n",
      "Requirement already satisfied: six>=1.9.0 in ./.conda/envs/default/lib/python3.9/site-packages (from blessed>=1.19.0->inquirer<5.0,>=2.10.0->lightning) (1.16.0)\n",
      "Requirement already satisfied: MarkupSafe>=2.0 in ./.conda/envs/default/lib/python3.9/site-packages (from Jinja2<5.0->lightning) (2.1.1)\n",
      "Requirement already satisfied: pyjwt in ./.conda/envs/default/lib/python3.9/site-packages (from lightning-cloud>=0.5.31->lightning) (2.6.0)\n",
      "Requirement already satisfied: pyparsing!=3.0.5,>=2.0.2 in ./.conda/envs/default/lib/python3.9/site-packages (from packaging<25.0,>=17.1->lightning) (3.0.9)\n",
      "Requirement already satisfied: setuptools>=41.0 in ./.conda/envs/default/lib/python3.9/site-packages (from readchar>=3.0.6->inquirer<5.0,>=2.10.0->lightning) (65.5.1)\n",
      "Requirement already satisfied: certifi>=2017.4.17 in ./.conda/envs/default/lib/python3.9/site-packages (from requests<4.0->lightning) (2022.12.7)\n",
      "Requirement already satisfied: pygments<3.0.0,>=2.13.0 in ./.conda/envs/default/lib/python3.9/site-packages (from rich<15.0,>=12.3.0->lightning) (2.13.0)\n",
      "Requirement already satisfied: markdown-it-py<3.0.0,>=2.2.0 in ./.conda/envs/default/lib/python3.9/site-packages (from rich<15.0,>=12.3.0->lightning) (2.2.0)\n",
      "Requirement already satisfied: mdurl~=0.1 in ./.conda/envs/default/lib/python3.9/site-packages (from markdown-it-py<3.0.0,>=2.2.0->rich<15.0,>=12.3.0->lightning) (0.1.2)\n",
      "Requirement already satisfied: itsdangerous<3.0.0,>=2.0.1 in ./.conda/envs/default/lib/python3.9/site-packages (from starsessions<2.0,>=1.2.1->lightning) (2.1.2)\n",
      "Requirement already satisfied: nvidia-curand-cu11==10.2.10.91 in ./.conda/envs/default/lib/python3.9/site-packages (from torch<4.0,>=1.11.0->lightning) (10.2.10.91)\n",
      "Requirement already satisfied: nvidia-nccl-cu11==2.14.3 in ./.conda/envs/default/lib/python3.9/site-packages (from torch<4.0,>=1.11.0->lightning) (2.14.3)\n",
      "Requirement already satisfied: nvidia-cuda-cupti-cu11==11.7.101 in ./.conda/envs/default/lib/python3.9/site-packages (from torch<4.0,>=1.11.0->lightning) (11.7.101)\n",
      "Requirement already satisfied: nvidia-cufft-cu11==10.9.0.58 in ./.conda/envs/default/lib/python3.9/site-packages (from torch<4.0,>=1.11.0->lightning) (10.9.0.58)\n",
      "Requirement already satisfied: filelock in ./.conda/envs/default/lib/python3.9/site-packages (from torch<4.0,>=1.11.0->lightning) (3.10.7)\n",
      "Requirement already satisfied: triton==2.0.0 in ./.conda/envs/default/lib/python3.9/site-packages (from torch<4.0,>=1.11.0->lightning) (2.0.0)\n",
      "Requirement already satisfied: nvidia-cuda-nvrtc-cu11==11.7.99 in ./.conda/envs/default/lib/python3.9/site-packages (from torch<4.0,>=1.11.0->lightning) (11.7.99)\n",
      "Requirement already satisfied: nvidia-cuda-runtime-cu11==11.7.99 in ./.conda/envs/default/lib/python3.9/site-packages (from torch<4.0,>=1.11.0->lightning) (11.7.99)\n",
      "Requirement already satisfied: nvidia-cudnn-cu11==8.5.0.96 in ./.conda/envs/default/lib/python3.9/site-packages (from torch<4.0,>=1.11.0->lightning) (8.5.0.96)\n",
      "Requirement already satisfied: networkx in ./.conda/envs/default/lib/python3.9/site-packages (from torch<4.0,>=1.11.0->lightning) (3.0)\n",
      "Requirement already satisfied: nvidia-cusolver-cu11==11.4.0.1 in ./.conda/envs/default/lib/python3.9/site-packages (from torch<4.0,>=1.11.0->lightning) (11.4.0.1)\n",
      "Requirement already satisfied: sympy in ./.conda/envs/default/lib/python3.9/site-packages (from torch<4.0,>=1.11.0->lightning) (1.11.1)\n",
      "Requirement already satisfied: nvidia-cublas-cu11==11.10.3.66 in ./.conda/envs/default/lib/python3.9/site-packages (from torch<4.0,>=1.11.0->lightning) (11.10.3.66)\n",
      "Requirement already satisfied: nvidia-cusparse-cu11==11.7.4.91 in ./.conda/envs/default/lib/python3.9/site-packages (from torch<4.0,>=1.11.0->lightning) (11.7.4.91)\n",
      "Requirement already satisfied: nvidia-nvtx-cu11==11.7.91 in ./.conda/envs/default/lib/python3.9/site-packages (from torch<4.0,>=1.11.0->lightning) (11.7.91)\n",
      "Requirement already satisfied: wheel in ./.conda/envs/default/lib/python3.9/site-packages (from nvidia-cublas-cu11==11.10.3.66->torch<4.0,>=1.11.0->lightning) (0.38.4)\n",
      "Requirement already satisfied: cmake in ./.conda/envs/default/lib/python3.9/site-packages (from triton==2.0.0->torch<4.0,>=1.11.0->lightning) (3.26.1)\n",
      "Requirement already satisfied: lit in ./.conda/envs/default/lib/python3.9/site-packages (from triton==2.0.0->torch<4.0,>=1.11.0->lightning) (16.0.0)\n",
      "Requirement already satisfied: h11>=0.8 in ./.conda/envs/default/lib/python3.9/site-packages (from uvicorn<2.0->lightning) (0.14.0)\n",
      "Requirement already satisfied: orjson>=3.2.1 in ./.conda/envs/default/lib/python3.9/site-packages (from fastapi<0.89.0->lightning) (3.8.9)\n",
      "Requirement already satisfied: email-validator>=1.1.1 in ./.conda/envs/default/lib/python3.9/site-packages (from fastapi<0.89.0->lightning) (1.3.1)\n",
      "Requirement already satisfied: python-multipart>=0.0.5 in ./.conda/envs/default/lib/python3.9/site-packages (from fastapi<0.89.0->lightning) (0.0.6)\n",
      "Requirement already satisfied: httpx>=0.23.0 in ./.conda/envs/default/lib/python3.9/site-packages (from fastapi<0.89.0->lightning) (0.23.3)\n",
      "Requirement already satisfied: ujson!=4.0.2,!=4.1.0,!=4.2.0,!=4.3.0,!=5.0.0,!=5.1.0,>=4.0.1 in ./.conda/envs/default/lib/python3.9/site-packages (from fastapi<0.89.0->lightning) (5.7.0)\n",
      "Requirement already satisfied: dnspython>=1.15.0 in ./.conda/envs/default/lib/python3.9/site-packages (from email-validator>=1.1.1->fastapi<0.89.0->lightning) (2.3.0)\n",
      "Requirement already satisfied: rfc3986[idna2008]<2,>=1.3 in ./.conda/envs/default/lib/python3.9/site-packages (from httpx>=0.23.0->fastapi<0.89.0->lightning) (1.5.0)\n",
      "Requirement already satisfied: httpcore<0.17.0,>=0.15.0 in ./.conda/envs/default/lib/python3.9/site-packages (from httpx>=0.23.0->fastapi<0.89.0->lightning) (0.16.3)\n",
      "Requirement already satisfied: python-dotenv>=0.13 in ./.conda/envs/default/lib/python3.9/site-packages (from uvicorn<2.0->lightning) (1.0.0)\n",
      "Requirement already satisfied: watchfiles>=0.13 in ./.conda/envs/default/lib/python3.9/site-packages (from uvicorn<2.0->lightning) (0.19.0)\n",
      "Requirement already satisfied: httptools>=0.5.0 in ./.conda/envs/default/lib/python3.9/site-packages (from uvicorn<2.0->lightning) (0.5.0)\n",
      "Requirement already satisfied: uvloop!=0.15.0,!=0.15.1,>=0.14.0 in ./.conda/envs/default/lib/python3.9/site-packages (from uvicorn<2.0->lightning) (0.17.0)\n",
      "Requirement already satisfied: mpmath>=0.19 in ./.conda/envs/default/lib/python3.9/site-packages (from sympy->torch<4.0,>=1.11.0->lightning) (1.3.0)\n",
      "Note: you may need to restart the kernel to use updated packages.\n",
      "Requirement already satisfied: torchvision in ./.conda/envs/default/lib/python3.9/site-packages (0.15.1)\n",
      "Requirement already satisfied: pillow!=8.3.*,>=5.3.0 in ./.conda/envs/default/lib/python3.9/site-packages (from torchvision) (9.4.0)\n",
      "Requirement already satisfied: requests in ./.conda/envs/default/lib/python3.9/site-packages (from torchvision) (2.28.2)\n",
      "Requirement already satisfied: torch==2.0.0 in ./.conda/envs/default/lib/python3.9/site-packages (from torchvision) (2.0.0)\n",
      "Requirement already satisfied: numpy in ./.conda/envs/default/lib/python3.9/site-packages (from torchvision) (1.23.5)\n",
      "Requirement already satisfied: nvidia-cufft-cu11==10.9.0.58 in ./.conda/envs/default/lib/python3.9/site-packages (from torch==2.0.0->torchvision) (10.9.0.58)\n",
      "Requirement already satisfied: nvidia-nccl-cu11==2.14.3 in ./.conda/envs/default/lib/python3.9/site-packages (from torch==2.0.0->torchvision) (2.14.3)\n",
      "Requirement already satisfied: nvidia-nvtx-cu11==11.7.91 in ./.conda/envs/default/lib/python3.9/site-packages (from torch==2.0.0->torchvision) (11.7.91)\n",
      "Requirement already satisfied: nvidia-cublas-cu11==11.10.3.66 in ./.conda/envs/default/lib/python3.9/site-packages (from torch==2.0.0->torchvision) (11.10.3.66)\n",
      "Requirement already satisfied: typing-extensions in ./.conda/envs/default/lib/python3.9/site-packages (from torch==2.0.0->torchvision) (4.4.0)\n",
      "Requirement already satisfied: filelock in ./.conda/envs/default/lib/python3.9/site-packages (from torch==2.0.0->torchvision) (3.10.7)\n",
      "Requirement already satisfied: nvidia-cuda-nvrtc-cu11==11.7.99 in ./.conda/envs/default/lib/python3.9/site-packages (from torch==2.0.0->torchvision) (11.7.99)\n",
      "Requirement already satisfied: nvidia-cuda-runtime-cu11==11.7.99 in ./.conda/envs/default/lib/python3.9/site-packages (from torch==2.0.0->torchvision) (11.7.99)\n",
      "Requirement already satisfied: sympy in ./.conda/envs/default/lib/python3.9/site-packages (from torch==2.0.0->torchvision) (1.11.1)\n",
      "Requirement already satisfied: nvidia-cusparse-cu11==11.7.4.91 in ./.conda/envs/default/lib/python3.9/site-packages (from torch==2.0.0->torchvision) (11.7.4.91)\n",
      "Requirement already satisfied: nvidia-curand-cu11==10.2.10.91 in ./.conda/envs/default/lib/python3.9/site-packages (from torch==2.0.0->torchvision) (10.2.10.91)\n",
      "Requirement already satisfied: jinja2 in ./.conda/envs/default/lib/python3.9/site-packages (from torch==2.0.0->torchvision) (3.1.2)\n",
      "Requirement already satisfied: nvidia-cudnn-cu11==8.5.0.96 in ./.conda/envs/default/lib/python3.9/site-packages (from torch==2.0.0->torchvision) (8.5.0.96)\n",
      "Requirement already satisfied: nvidia-cuda-cupti-cu11==11.7.101 in ./.conda/envs/default/lib/python3.9/site-packages (from torch==2.0.0->torchvision) (11.7.101)\n",
      "Requirement already satisfied: networkx in ./.conda/envs/default/lib/python3.9/site-packages (from torch==2.0.0->torchvision) (3.0)\n",
      "Requirement already satisfied: triton==2.0.0 in ./.conda/envs/default/lib/python3.9/site-packages (from torch==2.0.0->torchvision) (2.0.0)\n",
      "Requirement already satisfied: nvidia-cusolver-cu11==11.4.0.1 in ./.conda/envs/default/lib/python3.9/site-packages (from torch==2.0.0->torchvision) (11.4.0.1)\n",
      "Requirement already satisfied: wheel in ./.conda/envs/default/lib/python3.9/site-packages (from nvidia-cublas-cu11==11.10.3.66->torch==2.0.0->torchvision) (0.38.4)\n",
      "Requirement already satisfied: setuptools in ./.conda/envs/default/lib/python3.9/site-packages (from nvidia-cublas-cu11==11.10.3.66->torch==2.0.0->torchvision) (65.5.1)\n",
      "Requirement already satisfied: lit in ./.conda/envs/default/lib/python3.9/site-packages (from triton==2.0.0->torch==2.0.0->torchvision) (16.0.0)\n",
      "Requirement already satisfied: cmake in ./.conda/envs/default/lib/python3.9/site-packages (from triton==2.0.0->torch==2.0.0->torchvision) (3.26.1)\n",
      "Requirement already satisfied: MarkupSafe>=2.0 in ./.conda/envs/default/lib/python3.9/site-packages (from jinja2->torch==2.0.0->torchvision) (2.1.1)\n",
      "Requirement already satisfied: certifi>=2017.4.17 in ./.conda/envs/default/lib/python3.9/site-packages (from requests->torchvision) (2022.12.7)\n",
      "Requirement already satisfied: charset-normalizer<4,>=2 in ./.conda/envs/default/lib/python3.9/site-packages (from requests->torchvision) (3.1.0)\n",
      "Requirement already satisfied: urllib3<1.27,>=1.21.1 in ./.conda/envs/default/lib/python3.9/site-packages (from requests->torchvision) (1.26.14)\n",
      "Requirement already satisfied: idna<4,>=2.5 in ./.conda/envs/default/lib/python3.9/site-packages (from requests->torchvision) (3.4)\n",
      "Requirement already satisfied: mpmath>=0.19 in ./.conda/envs/default/lib/python3.9/site-packages (from sympy->torch==2.0.0->torchvision) (1.3.0)\n",
      "Note: you may need to restart the kernel to use updated packages.\n",
      "Requirement already satisfied: tensorboard in ./.conda/envs/default/lib/python3.9/site-packages (2.12.1)\n",
      "Requirement already satisfied: google-auth<3,>=1.6.3 in ./.conda/envs/default/lib/python3.9/site-packages (from tensorboard) (2.17.2)\n",
      "Requirement already satisfied: requests<3,>=2.21.0 in ./.conda/envs/default/lib/python3.9/site-packages (from tensorboard) (2.28.2)\n",
      "Requirement already satisfied: grpcio>=1.48.2 in ./.conda/envs/default/lib/python3.9/site-packages (from tensorboard) (1.53.0)\n",
      "Requirement already satisfied: werkzeug>=1.0.1 in ./.conda/envs/default/lib/python3.9/site-packages (from tensorboard) (2.2.3)\n",
      "Requirement already satisfied: numpy>=1.12.0 in ./.conda/envs/default/lib/python3.9/site-packages (from tensorboard) (1.23.5)\n",
      "Requirement already satisfied: google-auth-oauthlib<1.1,>=0.5 in ./.conda/envs/default/lib/python3.9/site-packages (from tensorboard) (1.0.0)\n",
      "Requirement already satisfied: absl-py>=0.4 in ./.conda/envs/default/lib/python3.9/site-packages (from tensorboard) (1.4.0)\n",
      "Requirement already satisfied: tensorboard-data-server<0.8.0,>=0.7.0 in ./.conda/envs/default/lib/python3.9/site-packages (from tensorboard) (0.7.0)\n",
      "Requirement already satisfied: markdown>=2.6.8 in ./.conda/envs/default/lib/python3.9/site-packages (from tensorboard) (3.4.3)\n",
      "Requirement already satisfied: setuptools>=41.0.0 in ./.conda/envs/default/lib/python3.9/site-packages (from tensorboard) (65.5.1)\n",
      "Requirement already satisfied: protobuf>=3.19.6 in ./.conda/envs/default/lib/python3.9/site-packages (from tensorboard) (3.20.3)\n",
      "Requirement already satisfied: wheel>=0.26 in ./.conda/envs/default/lib/python3.9/site-packages (from tensorboard) (0.38.4)\n",
      "Requirement already satisfied: tensorboard-plugin-wit>=1.6.0 in ./.conda/envs/default/lib/python3.9/site-packages (from tensorboard) (1.8.1)\n",
      "Requirement already satisfied: cachetools<6.0,>=2.0.0 in ./.conda/envs/default/lib/python3.9/site-packages (from google-auth<3,>=1.6.3->tensorboard) (5.3.0)\n",
      "Requirement already satisfied: six>=1.9.0 in ./.conda/envs/default/lib/python3.9/site-packages (from google-auth<3,>=1.6.3->tensorboard) (1.16.0)\n",
      "Requirement already satisfied: pyasn1-modules>=0.2.1 in ./.conda/envs/default/lib/python3.9/site-packages (from google-auth<3,>=1.6.3->tensorboard) (0.2.8)\n",
      "Requirement already satisfied: rsa<5,>=3.1.4 in ./.conda/envs/default/lib/python3.9/site-packages (from google-auth<3,>=1.6.3->tensorboard) (4.9)\n",
      "Requirement already satisfied: requests-oauthlib>=0.7.0 in ./.conda/envs/default/lib/python3.9/site-packages (from google-auth-oauthlib<1.1,>=0.5->tensorboard) (1.3.1)\n",
      "Requirement already satisfied: importlib-metadata>=4.4 in ./.conda/envs/default/lib/python3.9/site-packages (from markdown>=2.6.8->tensorboard) (4.13.0)\n",
      "Requirement already satisfied: zipp>=0.5 in ./.conda/envs/default/lib/python3.9/site-packages (from importlib-metadata>=4.4->markdown>=2.6.8->tensorboard) (3.10.0)\n",
      "Requirement already satisfied: pyasn1<0.5.0,>=0.4.6 in ./.conda/envs/default/lib/python3.9/site-packages (from pyasn1-modules>=0.2.1->google-auth<3,>=1.6.3->tensorboard) (0.4.8)\n",
      "Requirement already satisfied: idna<4,>=2.5 in ./.conda/envs/default/lib/python3.9/site-packages (from requests<3,>=2.21.0->tensorboard) (3.4)\n",
      "Requirement already satisfied: urllib3<1.27,>=1.21.1 in ./.conda/envs/default/lib/python3.9/site-packages (from requests<3,>=2.21.0->tensorboard) (1.26.14)\n",
      "Requirement already satisfied: charset-normalizer<4,>=2 in ./.conda/envs/default/lib/python3.9/site-packages (from requests<3,>=2.21.0->tensorboard) (3.1.0)\n",
      "Requirement already satisfied: certifi>=2017.4.17 in ./.conda/envs/default/lib/python3.9/site-packages (from requests<3,>=2.21.0->tensorboard) (2022.12.7)\n",
      "Requirement already satisfied: oauthlib>=3.0.0 in ./.conda/envs/default/lib/python3.9/site-packages (from requests-oauthlib>=0.7.0->google-auth-oauthlib<1.1,>=0.5->tensorboard) (3.2.2)\n",
      "Requirement already satisfied: MarkupSafe>=2.1.1 in ./.conda/envs/default/lib/python3.9/site-packages (from werkzeug>=1.0.1->tensorboard) (2.1.1)\n",
      "Note: you may need to restart the kernel to use updated packages.\n"
     ]
    }
   ],
   "source": [
    "%pip install lightning\n",
    "%pip install torchvision\n",
    "%pip install tensorboard"
   ]
  },
  {
   "cell_type": "markdown",
   "id": "3d7d354a-9271-4864-83ee-9b1c7b1a771d",
   "metadata": {
    "jp-MarkdownHeadingCollapsed": true,
    "tags": []
   },
   "source": [
    "# Imports"
   ]
  },
  {
   "cell_type": "code",
   "execution_count": 1,
   "id": "fbb5d5c5-f775-474e-a74a-71207e63ab5e",
   "metadata": {},
   "outputs": [],
   "source": [
    "import lightning.pytorch as pl\n",
    "import torch\n",
    "import os\n",
    "import torchmetrics\n",
    "from torch import nn\n",
    "from torch.utils.data import Dataset, ConcatDataset\n",
    "from lightning.pytorch.loggers import TensorBoardLogger"
   ]
  },
  {
   "cell_type": "markdown",
   "id": "92e66fab-bff6-4689-ac55-394d225454c1",
   "metadata": {
    "jp-MarkdownHeadingCollapsed": true,
    "tags": []
   },
   "source": [
    "# Constants"
   ]
  },
  {
   "cell_type": "code",
   "execution_count": 2,
   "id": "43410e76-bc04-4a1c-a85a-777274600ba3",
   "metadata": {},
   "outputs": [],
   "source": [
    "CLASS_LABELS = ('cel', 'cla', 'flu', 'gac', 'gel', 'org',\n",
    "                'pia', 'sax', 'tru', 'vio', 'voi')"
   ]
  },
  {
   "cell_type": "markdown",
   "id": "bd94080f-f2b3-4448-9415-45da2e596833",
   "metadata": {},
   "source": [
    "# Dataset"
   ]
  },
  {
   "cell_type": "code",
   "execution_count": 3,
   "id": "03b889e5-b733-408a-b837-7e282a27f056",
   "metadata": {},
   "outputs": [],
   "source": [
    "class TrainingDataset(Dataset):\n",
    "    '''Dataset for loading given training examples - examples for each label\n",
    "    are stored in separate directory'''\n",
    "    def __init__(self, source_dir: str):\n",
    "        self.class_dir_paths = [os.path.join(source_dir, c)\n",
    "                                for c in CLASS_LABELS]\n",
    "        self.class_dirs = [[os.path.join(c_path, f)\n",
    "                            for f in os.listdir(c_path)]\n",
    "                           for c_path in self.class_dir_paths]\n",
    "        self.class_sizes = [len(c_dir) for c_dir in self.class_dirs]\n",
    "        self.size = sum(self.class_sizes)\n",
    "\n",
    "    def __len__(self) -> int:\n",
    "        return self.size\n",
    "\n",
    "    def __getitem__(self, idx: int) -> tuple[torch.Tensor, torch.Tensor]:\n",
    "        if idx >= self.size:\n",
    "            raise IndexError('Item index out of range!')\n",
    "\n",
    "        file_idx = idx\n",
    "        for class_idx in range(len(CLASS_LABELS)):\n",
    "            if file_idx < self.class_sizes[class_idx]:\n",
    "                break\n",
    "            else:\n",
    "                file_idx -= self.class_sizes[class_idx]\n",
    "\n",
    "        data = torch.load(self.class_dirs[class_idx][file_idx])\n",
    "        data.requires_grad = False\n",
    "        return data, torch.Tensor([1 if i == class_idx else 0 for i in range(len(CLASS_LABELS))])"
   ]
  },
  {
   "cell_type": "code",
   "execution_count": 4,
   "id": "8b1b65e9-1884-458e-b6ff-0c677feb6730",
   "metadata": {},
   "outputs": [],
   "source": [
    "class TensorDataset(Dataset):\n",
    "    '''Dataset that loads examples and labels stored as tensor files in\n",
    "    source_dir. Each pair (example, label) is stored as a single .pt file'''\n",
    "    def __init__(self, source_dir: str):\n",
    "        self.files = [os.path.join(source_dir, f) for f in os.listdir(source_dir)]\n",
    "\n",
    "    def __len__(self) -> int:\n",
    "        return len(self.files)\n",
    "\n",
    "    def __getitem__(self, idx: int) -> tuple[torch.Tensor, torch.Tensor]:\n",
    "        data, label = torch.load(self.files[idx])\n",
    "        data.requires_grad = False\n",
    "        return data, label"
   ]
  },
  {
   "cell_type": "code",
   "execution_count": 5,
   "id": "329f8e98-5094-406e-b369-2d42a3881a0e",
   "metadata": {},
   "outputs": [],
   "source": [
    "class Cache(Dataset):\n",
    "    def __init__(self, source_dataset: Dataset,\n",
    "                 calculate_label_distributions: bool = False):\n",
    "        self.data = []\n",
    "        if calculate_label_distributions:\n",
    "            label_sum = torch.zeros((len(CLASS_LABELS)))\n",
    "            for i in range(len(source_dataset)):\n",
    "                example, label = source_dataset[i]\n",
    "                label_sum += label\n",
    "                self.data.append((example, label))\n",
    "            self.label_distributions = label_sum / len(source_dataset)\n",
    "        else:\n",
    "            self.label_distributions = None\n",
    "            for i in range(len(source_dataset)):\n",
    "                self.data.append(source_dataset[i])\n",
    "\n",
    "    def __len__(self) -> int:\n",
    "        return len(self.data)\n",
    "\n",
    "    def __getitem__(self, idx: int) -> tuple[torch.Tensor, torch.Tensor]:\n",
    "        return self.data[idx]"
   ]
  },
  {
   "cell_type": "markdown",
   "id": "42228fd3-1a19-4515-b715-b1564f57a38a",
   "metadata": {
    "tags": []
   },
   "source": [
    "# Model"
   ]
  },
  {
   "cell_type": "markdown",
   "id": "f4e1a065-e508-4d32-ab08-c56583bb966f",
   "metadata": {
    "tags": []
   },
   "source": [
    "## Loss function definition"
   ]
  },
  {
   "cell_type": "code",
   "execution_count": 6,
   "id": "50a8cb00-64cd-4204-b87c-eab8d4263b40",
   "metadata": {},
   "outputs": [],
   "source": [
    "class WeightedBCELoss(nn.Module):\n",
    "    '''Binary Cross Entropy that takes into account within-label imbalances'''\n",
    "    def __init__(self, label_distribution, reduction='mean'):\n",
    "        super().__init__()\n",
    "        self.fn_weights = 1 - label_distribution\n",
    "        self.fp_weights = label_distribution\n",
    "        self.bce_loss = nn.BCELoss(reduction='none')\n",
    "        self.reduction = reduction\n",
    "\n",
    "    def forward(self, input, target):\n",
    "        loss = self.bce_loss(input, target)\n",
    "        fn_loss = loss * self.fn_weights * target\n",
    "        fp_loss = loss * self.fp_weights * (1 - target)\n",
    "        loss = fn_loss + fp_loss\n",
    "        if self.reduction == 'mean':\n",
    "            loss = loss.mean()\n",
    "        elif self.reduction == 'sum':\n",
    "            loss = loss.sum()\n",
    "        return loss"
   ]
  },
  {
   "cell_type": "markdown",
   "id": "8f427319-7070-4bb4-88d5-0df9c1b7588e",
   "metadata": {},
   "source": [
    "## Model definition"
   ]
  },
  {
   "cell_type": "code",
   "execution_count": 27,
   "id": "37824f5a-09ce-4317-819a-46774a293c0d",
   "metadata": {},
   "outputs": [],
   "source": [
    "class LastLayer(pl.LightningModule):\n",
    "    def __init__(self, loss: nn.Module, num_features: int = 2048,\n",
    "                 num_labels: int = len(CLASS_LABELS),\n",
    "                 learning_rate: float = 1e-3):\n",
    "        super().__init__()\n",
    "        self.save_hyperparameters()\n",
    "\n",
    "        self.learning_rate = learning_rate\n",
    "        self.fc = nn.Linear(num_features, num_labels)\n",
    "        self.sigmoid = nn.Sigmoid()\n",
    "\n",
    "        self.metrics = {\n",
    "            'loss': loss,\n",
    "            'accuracy': torchmetrics.Accuracy(task='multilabel',\n",
    "                                              num_labels=num_labels),\n",
    "            'precision': torchmetrics.Precision(task=\"multilabel\",\n",
    "                                                num_labels=num_labels),\n",
    "            'recall': torchmetrics.Recall(task='multilabel',\n",
    "                                          num_labels=num_labels),\n",
    "            'hamming_distance': torchmetrics.HammingDistance(task='multilabel',\n",
    "                                                             num_labels=num_labels)\n",
    "        }\n",
    "\n",
    "    def _get_metrics(self, preds, target, label):\n",
    "        metrics = {}\n",
    "        for k, v in self.metrics.items():\n",
    "            metrics[label+'_'+k] = v(preds, target)\n",
    "        return metrics\n",
    "\n",
    "    def forward(self, x):\n",
    "        x = self.fc(x)\n",
    "        return self.sigmoid(x)\n",
    "\n",
    "    def training_step(self, batch, batch_idx):\n",
    "        x, y = batch\n",
    "        y_hat = self(x)\n",
    "\n",
    "        metrics = self._get_metrics(y_hat, y, 'train')\n",
    "        self.log_dict(metrics, on_step=False, on_epoch=True)\n",
    "\n",
    "        return metrics['train_loss']\n",
    "\n",
    "    def validation_step(self, batch, batch_idx):\n",
    "        x, y = batch\n",
    "        y_hat = self(x)\n",
    "\n",
    "        metrics = self._get_metrics(y_hat, y, 'validation')\n",
    "        self.log_dict(metrics, on_step=False, on_epoch=True)\n",
    "\n",
    "        return metrics['validation_loss']\n",
    "\n",
    "    def test_step(self, batch, batch_idx):\n",
    "        x, y = batch\n",
    "        y_hat = self(x)\n",
    "\n",
    "        metrics = self._get_metrics(y_hat, y, 'test')\n",
    "        self.log_dict(metrics, on_step=False, on_epoch=True)\n",
    "\n",
    "        return metrics['test_loss']\n",
    "\n",
    "    def configure_optimizers(self):\n",
    "        return torch.optim.Adam(self.fc.parameters(), lr=self.learning_rate)"
   ]
  },
  {
   "cell_type": "markdown",
   "id": "3736ac69-fcbc-4aa3-a544-39fd21dfa234",
   "metadata": {},
   "source": [
    "# Train"
   ]
  },
  {
   "cell_type": "markdown",
   "id": "3a6bfb5a-dab9-4a2f-99ff-d14ca6da8d16",
   "metadata": {},
   "source": [
    "## Constants"
   ]
  },
  {
   "cell_type": "code",
   "execution_count": 11,
   "id": "a901633f-20cc-4bb6-8b24-5a86cec6c220",
   "metadata": {},
   "outputs": [
    {
     "name": "stdin",
     "output_type": "stream",
     "text": [
      "Dataset root directory:  \n"
     ]
    }
   ],
   "source": [
    "# change the following paths according to output paths used in preprocessing.ipynb\n",
    "DATASET_ROOT_DIR = input('Dataset root directory: ') or '/home/studio-lab-user/Dataset'\n",
    "\n",
    "TRAIN_DIR = os.path.join(DATASET_ROOT_DIR, 'melspec_resnet50_training')\n",
    "TRAIN_DIR_MIX_2 = os.path.join(DATASET_ROOT_DIR, 'melspec_resnet50_training_mix_2')\n",
    "TRAIN_DIR_MIX_3 = os.path.join(DATASET_ROOT_DIR, 'melspec_resnet50_training_mix_3')\n",
    "VAL_DIR = os.path.join(DATASET_ROOT_DIR, 'melspec_resnet50_validation')"
   ]
  },
  {
   "cell_type": "markdown",
   "id": "a060837d-0f8a-49b7-b17e-62a6297b9a02",
   "metadata": {},
   "source": [
    "## Dataset loading"
   ]
  },
  {
   "cell_type": "code",
   "execution_count": 12,
   "id": "973adb30-a818-4079-9dc3-7d3c7c19a420",
   "metadata": {},
   "outputs": [],
   "source": [
    "ds_train_raw = TrainingDataset(TRAIN_DIR)\n",
    "ds_train_mix_2 = TensorDataset(TRAIN_DIR_MIX_2)\n",
    "ds_train_mix_3 = TensorDataset(TRAIN_DIR_MIX_3)\n",
    "ds_train = Cache(source_dataset=ConcatDataset((ds_train_raw, ds_train_mix_2,\n",
    "                                               ds_train_mix_3)),\n",
    "                 calculate_label_distributions=True)"
   ]
  },
  {
   "cell_type": "code",
   "execution_count": 13,
   "id": "fff1f6be-a680-4b94-938d-5b140d60e0bb",
   "metadata": {},
   "outputs": [
    {
     "name": "stdout",
     "output_type": "stream",
     "text": [
      "Label distribution on training data:\n",
      "tensor([0.1855, 0.1899, 0.1875, 0.1940, 0.1986, 0.1957, 0.1969, 0.1933, 0.1915,\n",
      "        0.1916, 0.1990])\n"
     ]
    }
   ],
   "source": [
    "print('Label distribution on training data:')\n",
    "print(ds_train.label_distributions)"
   ]
  },
  {
   "cell_type": "code",
   "execution_count": 14,
   "id": "3f8d6735-29e3-4430-9858-8edbf7e14161",
   "metadata": {},
   "outputs": [
    {
     "name": "stdout",
     "output_type": "stream",
     "text": [
      "Label distribution on provided validation data:\n",
      "tensor([0.0386, 0.0216, 0.0567, 0.1862, 0.3278, 0.1256, 0.3462, 0.1134, 0.0581,\n",
      "        0.0734, 0.3633])\n"
     ]
    }
   ],
   "source": [
    "ds_provided_validation = Cache(source_dataset=TensorDataset(VAL_DIR),\n",
    "                               calculate_label_distributions=True)\n",
    "print('Label distribution on provided validation data:')\n",
    "print(ds_provided_validation.label_distributions)"
   ]
  },
  {
   "cell_type": "code",
   "execution_count": 15,
   "id": "0bb6d5f0-d955-4372-a0ea-c0ef4690b0e4",
   "metadata": {},
   "outputs": [],
   "source": [
    "ds = ds_train\n",
    "ds_train, ds_validation = torch.utils.data.random_split(ds, (0.85, 0.15))"
   ]
  },
  {
   "cell_type": "markdown",
   "id": "0fe5634a-3678-4100-83d2-3ed2e2bf6ce8",
   "metadata": {},
   "source": [
    "## Training"
   ]
  },
  {
   "cell_type": "code",
   "execution_count": 16,
   "id": "e5bf4e26-759f-49b0-8b78-efd689abcf61",
   "metadata": {},
   "outputs": [],
   "source": [
    "# change to ds_provided_validation.label_distributions if you want to adjust\n",
    "# loss according to provided validation data instead of our training data\n",
    "loss = WeightedBCELoss(ds.label_distributions)\n",
    "# uncomment if you want to use the default BCELoss\n",
    "# loss = nn.BCELoss()"
   ]
  },
  {
   "cell_type": "code",
   "execution_count": 28,
   "id": "18730849-782e-43ea-9eca-e452578d4545",
   "metadata": {},
   "outputs": [
    {
     "name": "stdin",
     "output_type": "stream",
     "text": [
      "Model label (for tensorboard graphs):  resnet50_weightedLoss_ourVal\n"
     ]
    },
    {
     "name": "stderr",
     "output_type": "stream",
     "text": [
      "GPU available: False, used: False\n",
      "TPU available: False, using: 0 TPU cores\n",
      "IPU available: False, using: 0 IPUs\n",
      "HPU available: False, using: 0 HPUs\n",
      "\n",
      "  | Name    | Type    | Params\n",
      "------------------------------------\n",
      "0 | fc      | Linear  | 22.5 K\n",
      "1 | sigmoid | Sigmoid | 0     \n",
      "------------------------------------\n",
      "22.5 K    Trainable params\n",
      "0         Non-trainable params\n",
      "22.5 K    Total params\n",
      "0.090     Total estimated model params size (MB)\n"
     ]
    },
    {
     "data": {
      "application/vnd.jupyter.widget-view+json": {
       "model_id": "",
       "version_major": 2,
       "version_minor": 0
      },
      "text/plain": [
       "Sanity Checking: 0it [00:00, ?it/s]"
      ]
     },
     "metadata": {},
     "output_type": "display_data"
    },
    {
     "data": {
      "application/vnd.jupyter.widget-view+json": {
       "model_id": "99b7bf549e424049a411cd6b39dcabb4",
       "version_major": 2,
       "version_minor": 0
      },
      "text/plain": [
       "Training: 0it [00:00, ?it/s]"
      ]
     },
     "metadata": {},
     "output_type": "display_data"
    },
    {
     "data": {
      "application/vnd.jupyter.widget-view+json": {
       "model_id": "",
       "version_major": 2,
       "version_minor": 0
      },
      "text/plain": [
       "Validation: 0it [00:00, ?it/s]"
      ]
     },
     "metadata": {},
     "output_type": "display_data"
    },
    {
     "data": {
      "application/vnd.jupyter.widget-view+json": {
       "model_id": "",
       "version_major": 2,
       "version_minor": 0
      },
      "text/plain": [
       "Validation: 0it [00:00, ?it/s]"
      ]
     },
     "metadata": {},
     "output_type": "display_data"
    },
    {
     "data": {
      "application/vnd.jupyter.widget-view+json": {
       "model_id": "",
       "version_major": 2,
       "version_minor": 0
      },
      "text/plain": [
       "Validation: 0it [00:00, ?it/s]"
      ]
     },
     "metadata": {},
     "output_type": "display_data"
    },
    {
     "data": {
      "application/vnd.jupyter.widget-view+json": {
       "model_id": "",
       "version_major": 2,
       "version_minor": 0
      },
      "text/plain": [
       "Validation: 0it [00:00, ?it/s]"
      ]
     },
     "metadata": {},
     "output_type": "display_data"
    },
    {
     "data": {
      "application/vnd.jupyter.widget-view+json": {
       "model_id": "",
       "version_major": 2,
       "version_minor": 0
      },
      "text/plain": [
       "Validation: 0it [00:00, ?it/s]"
      ]
     },
     "metadata": {},
     "output_type": "display_data"
    },
    {
     "data": {
      "application/vnd.jupyter.widget-view+json": {
       "model_id": "",
       "version_major": 2,
       "version_minor": 0
      },
      "text/plain": [
       "Validation: 0it [00:00, ?it/s]"
      ]
     },
     "metadata": {},
     "output_type": "display_data"
    },
    {
     "data": {
      "application/vnd.jupyter.widget-view+json": {
       "model_id": "",
       "version_major": 2,
       "version_minor": 0
      },
      "text/plain": [
       "Validation: 0it [00:00, ?it/s]"
      ]
     },
     "metadata": {},
     "output_type": "display_data"
    },
    {
     "data": {
      "application/vnd.jupyter.widget-view+json": {
       "model_id": "",
       "version_major": 2,
       "version_minor": 0
      },
      "text/plain": [
       "Validation: 0it [00:00, ?it/s]"
      ]
     },
     "metadata": {},
     "output_type": "display_data"
    },
    {
     "data": {
      "application/vnd.jupyter.widget-view+json": {
       "model_id": "",
       "version_major": 2,
       "version_minor": 0
      },
      "text/plain": [
       "Validation: 0it [00:00, ?it/s]"
      ]
     },
     "metadata": {},
     "output_type": "display_data"
    },
    {
     "data": {
      "application/vnd.jupyter.widget-view+json": {
       "model_id": "",
       "version_major": 2,
       "version_minor": 0
      },
      "text/plain": [
       "Validation: 0it [00:00, ?it/s]"
      ]
     },
     "metadata": {},
     "output_type": "display_data"
    },
    {
     "data": {
      "application/vnd.jupyter.widget-view+json": {
       "model_id": "",
       "version_major": 2,
       "version_minor": 0
      },
      "text/plain": [
       "Validation: 0it [00:00, ?it/s]"
      ]
     },
     "metadata": {},
     "output_type": "display_data"
    },
    {
     "data": {
      "application/vnd.jupyter.widget-view+json": {
       "model_id": "",
       "version_major": 2,
       "version_minor": 0
      },
      "text/plain": [
       "Validation: 0it [00:00, ?it/s]"
      ]
     },
     "metadata": {},
     "output_type": "display_data"
    },
    {
     "data": {
      "application/vnd.jupyter.widget-view+json": {
       "model_id": "",
       "version_major": 2,
       "version_minor": 0
      },
      "text/plain": [
       "Validation: 0it [00:00, ?it/s]"
      ]
     },
     "metadata": {},
     "output_type": "display_data"
    },
    {
     "data": {
      "application/vnd.jupyter.widget-view+json": {
       "model_id": "",
       "version_major": 2,
       "version_minor": 0
      },
      "text/plain": [
       "Validation: 0it [00:00, ?it/s]"
      ]
     },
     "metadata": {},
     "output_type": "display_data"
    },
    {
     "data": {
      "application/vnd.jupyter.widget-view+json": {
       "model_id": "",
       "version_major": 2,
       "version_minor": 0
      },
      "text/plain": [
       "Validation: 0it [00:00, ?it/s]"
      ]
     },
     "metadata": {},
     "output_type": "display_data"
    },
    {
     "data": {
      "application/vnd.jupyter.widget-view+json": {
       "model_id": "",
       "version_major": 2,
       "version_minor": 0
      },
      "text/plain": [
       "Validation: 0it [00:00, ?it/s]"
      ]
     },
     "metadata": {},
     "output_type": "display_data"
    },
    {
     "data": {
      "application/vnd.jupyter.widget-view+json": {
       "model_id": "",
       "version_major": 2,
       "version_minor": 0
      },
      "text/plain": [
       "Validation: 0it [00:00, ?it/s]"
      ]
     },
     "metadata": {},
     "output_type": "display_data"
    },
    {
     "data": {
      "application/vnd.jupyter.widget-view+json": {
       "model_id": "",
       "version_major": 2,
       "version_minor": 0
      },
      "text/plain": [
       "Validation: 0it [00:00, ?it/s]"
      ]
     },
     "metadata": {},
     "output_type": "display_data"
    },
    {
     "data": {
      "application/vnd.jupyter.widget-view+json": {
       "model_id": "",
       "version_major": 2,
       "version_minor": 0
      },
      "text/plain": [
       "Validation: 0it [00:00, ?it/s]"
      ]
     },
     "metadata": {},
     "output_type": "display_data"
    },
    {
     "data": {
      "application/vnd.jupyter.widget-view+json": {
       "model_id": "",
       "version_major": 2,
       "version_minor": 0
      },
      "text/plain": [
       "Validation: 0it [00:00, ?it/s]"
      ]
     },
     "metadata": {},
     "output_type": "display_data"
    },
    {
     "data": {
      "application/vnd.jupyter.widget-view+json": {
       "model_id": "",
       "version_major": 2,
       "version_minor": 0
      },
      "text/plain": [
       "Validation: 0it [00:00, ?it/s]"
      ]
     },
     "metadata": {},
     "output_type": "display_data"
    },
    {
     "data": {
      "application/vnd.jupyter.widget-view+json": {
       "model_id": "",
       "version_major": 2,
       "version_minor": 0
      },
      "text/plain": [
       "Validation: 0it [00:00, ?it/s]"
      ]
     },
     "metadata": {},
     "output_type": "display_data"
    },
    {
     "name": "stderr",
     "output_type": "stream",
     "text": [
      "`Trainer.fit` stopped: `max_epochs=22` reached.\n"
     ]
    }
   ],
   "source": [
    "train_loader = torch.utils.data.DataLoader(ds_train, batch_size=64,\n",
    "                                           shuffle=True, num_workers=4)\n",
    "val_loader = torch.utils.data.DataLoader(ds_validation, batch_size=64,\n",
    "                                         shuffle=True, num_workers=4)\n",
    "\n",
    "model = LastLayer(loss=loss, num_features=2048)\n",
    "model_label = input('Model label (for tensorboard graphs): ')\n",
    "logger = TensorBoardLogger(save_dir=os.getcwd(), name='lightning_logs',\n",
    "                           version=model_label)\n",
    "\n",
    "trainer = pl.Trainer(max_epochs=22, logger=logger)\n",
    "trainer.fit(model=model, train_dataloaders=train_loader,\n",
    "            val_dataloaders=val_loader)"
   ]
  }
 ],
 "metadata": {
  "kernelspec": {
   "display_name": "default:Python",
   "language": "python",
   "name": "conda-env-default-py"
  },
  "language_info": {
   "codemirror_mode": {
    "name": "ipython",
    "version": 3
   },
   "file_extension": ".py",
   "mimetype": "text/x-python",
   "name": "python",
   "nbconvert_exporter": "python",
   "pygments_lexer": "ipython3",
   "version": "3.9.13"
  }
 },
 "nbformat": 4,
 "nbformat_minor": 5
}
