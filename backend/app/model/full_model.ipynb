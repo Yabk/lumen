{
 "cells": [
  {
   "cell_type": "markdown",
   "id": "eeff167b-405a-4b46-8098-8c6370609c30",
   "metadata": {},
   "source": [
    "# Imports"
   ]
  },
  {
   "cell_type": "code",
   "execution_count": 11,
   "id": "fbbaab04-a8d4-463c-9bcc-88e6fd361ec3",
   "metadata": {},
   "outputs": [],
   "source": [
    "import lightning.pytorch as pl\n",
    "import torchmetrics\n",
    "import torch\n",
    "import torchvision.models as models\n",
    "import numpy as np\n",
    "import librosa as lr\n",
    "from torch import nn"
   ]
  },
  {
   "cell_type": "markdown",
   "id": "b9717fb7-7d43-4f4f-b7bb-cec0951a3de6",
   "metadata": {},
   "source": [
    "# Constants"
   ]
  },
  {
   "cell_type": "code",
   "execution_count": 6,
   "id": "695befaa-0011-41dd-af3a-c82588948cf2",
   "metadata": {},
   "outputs": [],
   "source": [
    "CLASS_LABELS = ('cel', 'cla', 'flu', 'gac', 'gel', 'org',\n",
    "                'pia', 'sax', 'tru', 'vio', 'voi')"
   ]
  },
  {
   "cell_type": "markdown",
   "id": "8542de6e-29d3-401a-9ed8-aa63817431ad",
   "metadata": {},
   "source": [
    "# Model"
   ]
  },
  {
   "cell_type": "markdown",
   "id": "47e601a3-6ccc-45bd-a844-f93aecd4c8ca",
   "metadata": {},
   "source": [
    "## Last layer"
   ]
  },
  {
   "cell_type": "code",
   "execution_count": 7,
   "id": "e65bef07-b2de-49d6-a426-d0c703826970",
   "metadata": {},
   "outputs": [],
   "source": [
    "class LastLayer(pl.LightningModule):\n",
    "    def __init__(self, loss: nn.Module, num_features: int = 2048,\n",
    "                 num_labels: int = len(CLASS_LABELS),\n",
    "                 learning_rate: float = 1e-3):\n",
    "        super().__init__()\n",
    "        self.save_hyperparameters()\n",
    "\n",
    "        self.learning_rate = learning_rate\n",
    "        self.fc = nn.Linear(num_features, num_labels)\n",
    "        self.sigmoid = nn.Sigmoid()\n",
    "\n",
    "        self.metrics = {\n",
    "            'loss': loss,\n",
    "            'accuracy': torchmetrics.Accuracy(task='multilabel',\n",
    "                                              num_labels=num_labels),\n",
    "            'precision': torchmetrics.Precision(task=\"multilabel\",\n",
    "                                                num_labels=num_labels),\n",
    "            'recall': torchmetrics.Recall(task='multilabel',\n",
    "                                          num_labels=num_labels),\n",
    "            'hamming_distance': torchmetrics.HammingDistance(task='multilabel',\n",
    "                                                             num_labels=num_labels)\n",
    "        }\n",
    "\n",
    "    def _get_metrics(self, preds, target, label):\n",
    "        metrics = {}\n",
    "        for k, v in self.metrics.items():\n",
    "            metrics[label+'_'+k] = v(preds, target)\n",
    "        return metrics\n",
    "\n",
    "    def forward(self, x):\n",
    "        x = self.fc(x)\n",
    "        return self.sigmoid(x)\n",
    "\n",
    "    def training_step(self, batch, batch_idx):\n",
    "        x, y = batch\n",
    "        y_hat = self(x)\n",
    "\n",
    "        metrics = self._get_metrics(y_hat, y, 'train')\n",
    "        self.log_dict(metrics, on_step=False, on_epoch=True)\n",
    "\n",
    "        return metrics['train_loss']\n",
    "\n",
    "    def validation_step(self, batch, batch_idx):\n",
    "        x, y = batch\n",
    "        y_hat = self(x)\n",
    "\n",
    "        metrics = self._get_metrics(y_hat, y, 'validation')\n",
    "        self.log_dict(metrics, on_step=False, on_epoch=True)\n",
    "\n",
    "        return metrics['validation_loss']\n",
    "\n",
    "    def test_step(self, batch, batch_idx):\n",
    "        x, y = batch\n",
    "        y_hat = self(x)\n",
    "\n",
    "        metrics = self._get_metrics(y_hat, y, 'test')\n",
    "        self.log_dict(metrics, on_step=False, on_epoch=True)\n",
    "\n",
    "        return metrics['test_loss']\n",
    "\n",
    "    def configure_optimizers(self):\n",
    "        return torch.optim.Adam(self.fc.parameters(), lr=self.learning_rate)"
   ]
  },
  {
   "cell_type": "markdown",
   "id": "b2e51e23-c08b-4c24-82bc-a6802ca1580e",
   "metadata": {},
   "source": [
    "# Full model"
   ]
  },
  {
   "cell_type": "code",
   "execution_count": 12,
   "id": "8f62b6e2-e972-48c3-bc15-d01b870abc84",
   "metadata": {},
   "outputs": [],
   "source": [
    "class FullModel(pl.LightningModule):\n",
    "    '''Full model, including the resnet, ready for usage.'''\n",
    "\n",
    "    def __init__(self, last_layer_ckpt: str, melspec_hop_length: int = 256,\n",
    "                 melspec_n_mels: int = 256):\n",
    "        super().__init__()\n",
    "\n",
    "        self.melspec_hop_length = melspec_hop_length\n",
    "        self.melspec_n_mels = melspec_n_mels\n",
    "\n",
    "        self.last_layer = LastLayer.load_from_checkpoint(last_layer_ckpt, loss=None)\n",
    "        self.last_layer.eval()\n",
    "\n",
    "        if self.last_layer.hparams['num_features'] == 512:\n",
    "            self.resnet = models.resnet34(weights='DEFAULT')\n",
    "        elif self.last_layer.hparams['num_features'] == 2048:\n",
    "            self.resnet = models.resnet50(weights='DEFAULT')\n",
    "        else:\n",
    "            error_text = f\"Provided checkpoint expects {self.last_layer.hparams['num_features']}. Don't know which base model to use.\"\n",
    "            raise AttributeError(error_text)\n",
    "\n",
    "        self.resnet.fc = torch.nn.Identity()\n",
    "        self.resnet.eval()\n",
    "\n",
    "    def predict(self, signal: np.ndarray, sample_rate: int) -> dict:\n",
    "        melspec = torch.Tensor(lr.feature.melspectrogram(y=signal, sr=sample_rate,\n",
    "                                                         hop_length=self.melspec_hop_length,\n",
    "                                                         n_mels=self.melspec_n_mels))\n",
    "        normalized = (melspec - torch.min(melspec)) / (torch.max(melspec) - torch.min(melspec))\n",
    "        tripled = torch.stack((normalized, normalized, normalized), axis=0)\n",
    "        processed = torch.unsqueeze(tripled, dim=0)\n",
    "\n",
    "        resnet_features = self.resnet(processed)\n",
    "        probs = self.last_layer(torch.squeeze(resnet_features, dim=0))\n",
    "\n",
    "        output = {}\n",
    "        for idx, label in enumerate(CLASS_LABELS):\n",
    "            output[label] = float(probs[idx])\n",
    "\n",
    "        return output"
   ]
  }
 ],
 "metadata": {
  "kernelspec": {
   "display_name": "default:Python",
   "language": "python",
   "name": "conda-env-default-py"
  },
  "language_info": {
   "codemirror_mode": {
    "name": "ipython",
    "version": 3
   },
   "file_extension": ".py",
   "mimetype": "text/x-python",
   "name": "python",
   "nbconvert_exporter": "python",
   "pygments_lexer": "ipython3",
   "version": "3.9.13"
  }
 },
 "nbformat": 4,
 "nbformat_minor": 5
}
